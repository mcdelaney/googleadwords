{
 "cells": [
  {
   "cell_type": "code",
   "execution_count": 8,
   "metadata": {
    "collapsed": true
   },
   "outputs": [],
   "source": [
    "from googleads import adwords"
   ]
  },
  {
   "cell_type": "code",
   "execution_count": 17,
   "metadata": {
    "collapsed": true
   },
   "outputs": [],
   "source": [
    "from StringIO import StringIO\n",
    "import pandas as pd"
   ]
  },
  {
   "cell_type": "code",
   "execution_count": 52,
   "metadata": {
    "collapsed": true
   },
   "outputs": [],
   "source": [
    "def download_ad_data(client):\n",
    "    client.SetClientCustomerId('306-430-9521')\n",
    "    report_downloader = client.GetReportDownloader(version='v201705')\n",
    "    report_query = ('SELECT CampaignId, AdGroupId, Id, Impressions, Clicks, Cost '\n",
    "                    'FROM AD_PERFORMANCE_REPORT WHERE Status IN [ENABLED] '\n",
    "                    'AND CampaignId=713525456 DURING 20170701, 20170702')    \n",
    "    stream_data = report_downloader.DownloadReportAsStringWithAwql(\n",
    "            report_query, 'CSV', skip_report_header=True, skip_column_header=False,\n",
    "            skip_report_summary=True, include_zero_impressions=True)\n",
    "    report_data = StringIO(stream_data)\n",
    "    report_df = pd.DataFrame.from_csv(report_data, sep=',').reset_index()\n",
    "    return report_df"
   ]
  },
  {
   "cell_type": "code",
   "execution_count": 47,
   "metadata": {},
   "outputs": [],
   "source": [
    "adwords_client = adwords.AdWordsClient.LoadFromStorage()"
   ]
  },
  {
   "cell_type": "code",
   "execution_count": 48,
   "metadata": {},
   "outputs": [],
   "source": [
    "data = download_ad_data(adwords_client)"
   ]
  },
  {
   "cell_type": "code",
   "execution_count": 53,
   "metadata": {},
   "outputs": [
    {
     "data": {
      "text/html": [
       "<div>\n",
       "<table border=\"1\" class=\"dataframe\">\n",
       "  <thead>\n",
       "    <tr style=\"text-align: right;\">\n",
       "      <th></th>\n",
       "      <th>Campaign ID</th>\n",
       "      <th>Ad group ID</th>\n",
       "      <th>Ad ID</th>\n",
       "      <th>Impressions</th>\n",
       "      <th>Clicks</th>\n",
       "      <th>Cost</th>\n",
       "    </tr>\n",
       "  </thead>\n",
       "  <tbody>\n",
       "    <tr>\n",
       "      <th>941</th>\n",
       "      <td>713525456</td>\n",
       "      <td>39951089751</td>\n",
       "      <td>164632559215</td>\n",
       "      <td>0</td>\n",
       "      <td>0</td>\n",
       "      <td>0</td>\n",
       "    </tr>\n",
       "    <tr>\n",
       "      <th>942</th>\n",
       "      <td>713525456</td>\n",
       "      <td>39951089751</td>\n",
       "      <td>164632559218</td>\n",
       "      <td>0</td>\n",
       "      <td>0</td>\n",
       "      <td>0</td>\n",
       "    </tr>\n",
       "    <tr>\n",
       "      <th>2856</th>\n",
       "      <td>713525456</td>\n",
       "      <td>39951089911</td>\n",
       "      <td>164636934180</td>\n",
       "      <td>0</td>\n",
       "      <td>0</td>\n",
       "      <td>0</td>\n",
       "    </tr>\n",
       "    <tr>\n",
       "      <th>2857</th>\n",
       "      <td>713525456</td>\n",
       "      <td>39951089911</td>\n",
       "      <td>164636934183</td>\n",
       "      <td>0</td>\n",
       "      <td>0</td>\n",
       "      <td>0</td>\n",
       "    </tr>\n",
       "    <tr>\n",
       "      <th>2858</th>\n",
       "      <td>713525456</td>\n",
       "      <td>39951089911</td>\n",
       "      <td>164636934186</td>\n",
       "      <td>0</td>\n",
       "      <td>0</td>\n",
       "      <td>0</td>\n",
       "    </tr>\n",
       "  </tbody>\n",
       "</table>\n",
       "</div>"
      ],
      "text/plain": [
       "      Campaign ID  Ad group ID         Ad ID  Impressions  Clicks  Cost\n",
       "941     713525456  39951089751  164632559215            0       0     0\n",
       "942     713525456  39951089751  164632559218            0       0     0\n",
       "2856    713525456  39951089911  164636934180            0       0     0\n",
       "2857    713525456  39951089911  164636934183            0       0     0\n",
       "2858    713525456  39951089911  164636934186            0       0     0"
      ]
     },
     "execution_count": 53,
     "metadata": {},
     "output_type": "execute_result"
    }
   ],
   "source": [
    "data.sort_values(['Campaign ID', 'Ad group ID', 'Ad ID']).head()"
   ]
  },
  {
   "cell_type": "code",
   "execution_count": null,
   "metadata": {
    "collapsed": true
   },
   "outputs": [],
   "source": []
  }
 ],
 "metadata": {
  "kernelspec": {
   "display_name": "Python 2 (scratch)",
   "language": "python",
   "name": "scratch"
  },
  "language_info": {
   "codemirror_mode": {
    "name": "ipython",
    "version": 2
   },
   "file_extension": ".py",
   "mimetype": "text/x-python",
   "name": "python",
   "nbconvert_exporter": "python",
   "pygments_lexer": "ipython2",
   "version": "2.7.9"
  }
 },
 "nbformat": 4,
 "nbformat_minor": 2
}
