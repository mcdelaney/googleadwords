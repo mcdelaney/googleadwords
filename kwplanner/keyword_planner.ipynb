{
 "cells": [
  {
   "cell_type": "code",
   "execution_count": 1,
   "metadata": {},
   "outputs": [],
   "source": [
    "from googleads import adwords\n",
    "import json\n",
    "import pandas as pd\n",
    "import time\n",
    "import os\n",
    "import re\n",
    "import sys\n",
    "reload(sys)\n",
    "sys.setdefaultencoding('UTF8')"
   ]
  },
  {
   "cell_type": "code",
   "execution_count": 2,
   "metadata": {
    "collapsed": true
   },
   "outputs": [],
   "source": [
    "def get_language_code(language):\n",
    "    with open('./languagecodes.json', 'r') as readfile:\n",
    "        json_data = json.load(readfile)\n",
    "        return json_data[language]"
   ]
  },
  {
   "cell_type": "code",
   "execution_count": 3,
   "metadata": {
    "collapsed": true
   },
   "outputs": [],
   "source": [
    "def get_country_code(country_code):\n",
    "    cn = pd.read_csv('./countries.csv')\n",
    "    cn.set_index('Country Code', inplace=True)\n",
    "    return cn['Criteria ID'][country_code.upper()]"
   ]
  },
  {
   "cell_type": "code",
   "execution_count": 4,
   "metadata": {},
   "outputs": [],
   "source": [
    "def get_volume(keywords, country, language):\n",
    "    keywords = filter(None, keywords)\n",
    "    language_code = get_language_code(language)\n",
    "    adwords_client = adwords.AdWordsClient.LoadFromStorage('~/auth.yaml')\n",
    "    targeting_idea_service = adwords_client.GetService(\n",
    "        'TargetingIdeaService', version='v201609')\n",
    "\n",
    "    selector = {\n",
    "        'searchParameters': [\n",
    "            {\n",
    "                'xsi_type': 'RelatedToQuerySearchParameter',\n",
    "                'queries': keywords,\n",
    "            },\n",
    "            {\n",
    "                'xsi_type': 'LanguageSearchParameter',\n",
    "                'languages': [{'id': str(language_code)}]\n",
    "            },\n",
    "            {\n",
    "                'xsi_type': 'LocationSearchParameter',\n",
    "                'locations': [{'id': country}]\n",
    "            }\n",
    "        ],\n",
    "        'ideaType': 'KEYWORD',\n",
    "        'requestType': 'STATS',\n",
    "        'requestedAttributeTypes': ['KEYWORD_TEXT', 'SEARCH_VOLUME'],\n",
    "        'paging': {\n",
    "            'startIndex': '0',\n",
    "            'numberResults': str(len(keywords))\n",
    "        }\n",
    "    }\n",
    "\n",
    "    page = targeting_idea_service.get(selector)\n",
    "    return_data = {}\n",
    "    try:\n",
    "        for result in page['entries']:\n",
    "            attributes = {}\n",
    "            for attribute in result['data']:\n",
    "                attributes[attribute['key']] = getattr(attribute['value'], 'value', '0')\n",
    "            # monthly search volume\n",
    "            return_data[attributes['KEYWORD_TEXT']] = int(\n",
    "                attributes['SEARCH_VOLUME'])\n",
    "    except Exception as e:\n",
    "        print e.__doc__\n",
    "        print e.message\n",
    "        pass\n",
    "    return return_data"
   ]
  },
  {
   "cell_type": "code",
   "execution_count": 5,
   "metadata": {},
   "outputs": [],
   "source": [
    "def get_estimate(country, language, data):\n",
    "    \"\"\" data is a list of queries\n",
    "    \"\"\"\n",
    "    final = {}\n",
    "    error = []\n",
    "    for i in xrange(0, len(data), 700):     \n",
    "        kw = data[i:i+700]\n",
    "        try:\n",
    "            tmp = get_volume(kw, country, language) \n",
    "        except Exception as e:\n",
    "            print e.message\n",
    "            time.sleep(60)\n",
    "            try:\n",
    "                tmp = get_volume(kw, country, language) \n",
    "            except Exception as e:\n",
    "                print e.message\n",
    "                error.extend(kw)\n",
    "                tmp = {}\n",
    "                time.sleep(160)\n",
    "        for k in tmp:\n",
    "            final[k] = tmp[k]\n",
    "    return final, error"
   ]
  },
  {
   "cell_type": "code",
   "execution_count": 6,
   "metadata": {
    "collapsed": true
   },
   "outputs": [],
   "source": [
    "def get_estimate_recursive(country, language, data):\n",
    "    \"\"\"data is a list of queries\n",
    "    \"\"\"\n",
    "    country = get_country_code(country)\n",
    "    result_orig, error = get_estimate(country, language, data)\n",
    "    while error:\n",
    "        result, error = get_estimate(country, language, error)\n",
    "        result_orig.update(result)\n",
    "    return result_orig"
   ]
  },
  {
   "cell_type": "code",
   "execution_count": 7,
   "metadata": {},
   "outputs": [],
   "source": [
    "def process_result(result, filename):\n",
    "    #convert result (dict) to dataframe\n",
    "    df = pd.DataFrame(result.items(), columns=['keyword', 'volume'])\n",
    "    #filter zero volume keywords\n",
    "    df = df[df.volume>0]\n",
    "    df.to_csv(filename, index=False)"
   ]
  },
  {
   "cell_type": "code",
   "execution_count": 8,
   "metadata": {},
   "outputs": [],
   "source": [
    "def get_data(filename):\n",
    "    return pd.read_csv(filename, '\\t', header=None, warn_bad_lines=True, error_bad_lines=False)"
   ]
  },
  {
   "cell_type": "code",
   "execution_count": 9,
   "metadata": {
    "collapsed": true
   },
   "outputs": [],
   "source": [
    "def keyword_planner(filename, out, country_code, language):\n",
    "    data = get_data(filename)\n",
    "    queries = data[0].values.tolist()\n",
    "    print len(queries)\n",
    "    result = get_estimate_recursive(country_code, language, queries)\n",
    "    process_result(result, out)"
   ]
  },
  {
   "cell_type": "code",
   "execution_count": 10,
   "metadata": {},
   "outputs": [],
   "source": [
    "keyword_planner('sample_keywords.txt', 'result.txt', 'US', 'English')"
   ]
  }
 ],
 "metadata": {
  "kernelspec": {
   "display_name": "Python 2",
   "language": "python",
   "name": "python2"
  },
  "language_info": {
   "codemirror_mode": {
    "name": "ipython",
    "version": 2
   },
   "file_extension": ".py",
   "mimetype": "text/x-python",
   "name": "python",
   "nbconvert_exporter": "python",
   "pygments_lexer": "ipython2",
   "version": "2.7.9"
  },
  "widgets": {
   "state": {},
   "version": "1.1.2"
  }
 },
 "nbformat": 4,
 "nbformat_minor": 1
}
