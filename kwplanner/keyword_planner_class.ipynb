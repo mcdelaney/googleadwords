{
 "cells": [
  {
   "cell_type": "code",
   "execution_count": 15,
   "metadata": {
    "collapsed": false
   },
   "outputs": [],
   "source": [
    "import argparse\n",
    "from googleads import adwords\n",
    "import json\n",
    "import pandas as pd\n",
    "from __future__ import print_function\n",
    "from datetime import datetime\n",
    "import time\n",
    "import os\n",
    "import re\n",
    "import sys\n",
    "reload(sys)\n",
    "sys.setdefaultencoding('UTF8')"
   ]
  },
  {
   "cell_type": "code",
   "execution_count": 11,
   "metadata": {
    "collapsed": true
   },
   "outputs": [],
   "source": [
    "class keyword_planner(object):\n",
    "    def __init__(self,\n",
    "                 country_code='US', \n",
    "                 language='English',\n",
    "                 keyword_file='sample_keywords.txt', \n",
    "                 output_name=None,  \n",
    "                 auth_file='~/auth.yaml', \n",
    "                 sleep_duration=60,\n",
    "                 max_number_of_keywords=700):\n",
    "        self._client = adwords.AdWordsClient.LoadFromStorage(auth_file)\n",
    "        self._country_code = country_code\n",
    "        self._language = language\n",
    "        self._keyword_file = keyword_file\n",
    "        self._output_name=output_name or 'result_'+str(datetime.now()).replace(' ','_')+'.txt'\n",
    "        self._sleep_duration = sleep_duration\n",
    "        self._max_number_of_keywords = max_number_of_keywords\n",
    "    \n",
    "    @staticmethod\n",
    "    def display_languages():\n",
    "        with open('./languagecodes.json', 'r') as readfile:\n",
    "            lang = json.load(readfile)\n",
    "        for i in sorted(lang):\n",
    "            print (i, lang[i])\n",
    "    \n",
    "    @staticmethod\n",
    "    def display_countries():\n",
    "        cn = pd.read_csv('./countries.csv')\n",
    "        cn = cn.fillna('NA')\n",
    "        cn.set_index('Country Code', inplace=True)\n",
    "        countries = cn['Name'].to_dict()\n",
    "        for i in sorted(countries):\n",
    "            print(i, countries[i])\n",
    "            \n",
    "    def get_language_code(self, language):\n",
    "        with open('./languagecodes.json', 'r') as readfile:\n",
    "            lang = json.load(readfile)\n",
    "            return lang[language]\n",
    "        \n",
    "    def get_country_id(self, country_code):\n",
    "        cn = pd.read_csv('./countries.csv')\n",
    "        cn = cn.fillna('NA') # Namibia is read as NaN by pandas\n",
    "        cn.set_index('Country Code', inplace=True)\n",
    "        return cn['Criteria ID'][country_code.upper()]\n",
    "    \n",
    "    def get_volume(self, keywords):\n",
    "        \"\"\" keywords is a list of keywords \"\"\"\n",
    "        keywords = filter(None, keywords)\n",
    "        language_code = self.get_language_code(self._language)\n",
    "        country_id = self.get_country_id(self._country_code)\n",
    "        targeting_idea_service = self._client.GetService('TargetingIdeaService', version='v201609')\n",
    "\n",
    "        selector = {\n",
    "            'searchParameters': [\n",
    "            {\n",
    "                'xsi_type': 'RelatedToQuerySearchParameter',\n",
    "                'queries': keywords,\n",
    "            },\n",
    "            {\n",
    "                'xsi_type': 'LanguageSearchParameter',\n",
    "                'languages': [{'id': str(language_code)}]\n",
    "            },\n",
    "            {\n",
    "                'xsi_type': 'LocationSearchParameter',\n",
    "                'locations': [{'id': country_id}]\n",
    "            }\n",
    "            ],\n",
    "            'ideaType': 'KEYWORD',\n",
    "            'requestType': 'STATS',\n",
    "            'requestedAttributeTypes': ['KEYWORD_TEXT', 'SEARCH_VOLUME'],\n",
    "            'paging': {\n",
    "                'startIndex': '0',\n",
    "                'numberResults': str(len(keywords))\n",
    "            }\n",
    "        }\n",
    "\n",
    "        page = targeting_idea_service.get(selector)\n",
    "        return_data = {}\n",
    "        try:\n",
    "            for result in page['entries']:\n",
    "                attributes = {}\n",
    "                for attribute in result['data']:\n",
    "                    attributes[attribute['key']] = getattr(attribute['value'], 'value', '0')\n",
    "                return_data[attributes['KEYWORD_TEXT']] = int(attributes['SEARCH_VOLUME'])\n",
    "        except Exception as e:\n",
    "            print(e.__doc__)\n",
    "            print(e.message)\n",
    "        return return_data\n",
    "    \n",
    "    def get_estimate(self, data):\n",
    "        \"\"\" data is a list of queries\n",
    "        \"\"\"\n",
    "        final = {}\n",
    "        error = []\n",
    "        for i in xrange(0, len(data), self._max_number_of_keywords):     \n",
    "            kw = data[i:i+self._max_number_of_keywords]\n",
    "            try:\n",
    "                tmp = self.get_volume(kw) \n",
    "            except Exception as e:\n",
    "                print(e.message)\n",
    "                time.sleep(self._sleep_duration)\n",
    "                try:\n",
    "                    tmp = self.get_volume(kw) \n",
    "                except Exception as e:\n",
    "                    print(e.message)\n",
    "                    error.extend(kw)\n",
    "                    tmp = {}\n",
    "                    time.sleep(self._sleep_duration)\n",
    "            for k in tmp:\n",
    "                final[k] = tmp[k]\n",
    "        return final, error\n",
    "    \n",
    "    def get_estimate_recursive(self, data):\n",
    "        \"\"\"data is a list of queries\n",
    "        \"\"\"\n",
    "        result_orig, error = self.get_estimate(data)\n",
    "        while error:\n",
    "            result, error = self.get_estimate(error)\n",
    "            result_orig.update(result)\n",
    "        return result_orig\n",
    "    \n",
    "    def process_result(self, result):\n",
    "        #convert result (dict) to dataframe\n",
    "        df = pd.DataFrame(result.items(), columns=['keyword', 'volume'])\n",
    "        #filter zero volume keywords\n",
    "        df = df[df.volume>0]\n",
    "        df.to_csv(self._output_name, index=False)\n",
    "        \n",
    "    def get_data(self):\n",
    "        return pd.read_csv(self._keyword_file, '\\t', header=None, warn_bad_lines=True, error_bad_lines=False)\n",
    "    \n",
    "    def run(self):\n",
    "        data = self.get_data()\n",
    "        queries = data[0].values.tolist()\n",
    "        print('Number of keywords to process: ', len(queries))\n",
    "        result = self.get_estimate_recursive(queries)\n",
    "        self.process_result(result)\n",
    "        print('Done! Output saved as {0}'.format(self._output_name))"
   ]
  },
  {
   "cell_type": "code",
   "execution_count": 12,
   "metadata": {
    "collapsed": true
   },
   "outputs": [],
   "source": [
    "a = keyword_planner()"
   ]
  },
  {
   "cell_type": "code",
   "execution_count": 136,
   "metadata": {
    "collapsed": true
   },
   "outputs": [],
   "source": [
    "a.run()"
   ]
  },
  {
   "cell_type": "code",
   "execution_count": 88,
   "metadata": {
    "collapsed": true
   },
   "outputs": [],
   "source": [
    "def display_params(an):\n",
    "    attrs = vars(an)\n",
    "    print(', '.join(\"%s: %s\" % i for i in attrs.items()))"
   ]
  },
  {
   "cell_type": "code",
   "execution_count": 89,
   "metadata": {
    "collapsed": true
   },
   "outputs": [],
   "source": [
    "display_params(a)"
   ]
  },
  {
   "cell_type": "code",
   "execution_count": 9,
   "metadata": {
    "collapsed": true
   },
   "outputs": [],
   "source": []
  }
 ],
 "metadata": {
  "kernelspec": {
   "display_name": "Python 2",
   "language": "python",
   "name": "python2"
  },
  "language_info": {
   "codemirror_mode": {
    "name": "ipython",
    "version": 2
   },
   "file_extension": ".py",
   "mimetype": "text/x-python",
   "name": "python",
   "nbconvert_exporter": "python",
   "pygments_lexer": "ipython2",
   "version": "2.7.10"
  },
  "widgets": {
   "state": {},
   "version": "1.1.2"
  }
 },
 "nbformat": 4,
 "nbformat_minor": 2
}
