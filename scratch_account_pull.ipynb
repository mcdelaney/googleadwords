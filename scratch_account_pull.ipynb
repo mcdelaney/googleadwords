{
 "cells": [
  {
   "cell_type": "code",
   "execution_count": 24,
   "metadata": {
    "collapsed": true
   },
   "outputs": [],
   "source": [
    "#!/usr/bin/env python\n",
    "from googleads import adwords\n",
    "import pandas as pd\n",
    "from StringIO import StringIO"
   ]
  },
  {
   "cell_type": "code",
   "execution_count": 43,
   "metadata": {},
   "outputs": [],
   "source": [
    "class adwords_accounts(object):\n",
    "    def __init__(self, start, end, version='v201705'):\n",
    "        self._page_size = 500\n",
    "        self._client = adwords.AdWordsClient.LoadFromStorage()\n",
    "        self._version = version\n",
    "        self._all_accounts = {}\n",
    "        self._new_accounts_df = None\n",
    "        self._start = start\n",
    "        self._end = end\n",
    "        self._max_operations = 3000\n",
    "            \n",
    "    def pull_accounts(self):\n",
    "        mcc = self._client.GetService('ManagedCustomerService', version=self._version)\n",
    "        offset = 0\n",
    "        selector = {\n",
    "            'fields': ['CustomerId', 'Name'],\n",
    "            'predicates': [{'field' : 'ExcludeHiddenAccounts',\n",
    "                            'operator' : 'EQUALS' ,\n",
    "                            'values' : 'true'\n",
    "                            }],\n",
    "            'paging': {\n",
    "                'startIndex': str(offset),\n",
    "                'numberResults': str(self._page_size)\n",
    "            }\n",
    "        }\n",
    "        more_pages = True\n",
    "        while more_pages:\n",
    "            page = mcc.get(selector)\n",
    "            if 'entries' in page and page['entries']:\n",
    "                for account in page['entries']:\n",
    "                    self._all_accounts[account['customerId']] = account['name']\n",
    "            offset += self._page_size\n",
    "            selector['paging']['startIndex'] = str(offset)\n",
    "            more_pages = offset < int(page['totalNumEntries'])\n",
    "    \n",
    "    def get_accounts(self, filter_old=True):\n",
    "        if not self._all_accounts:\n",
    "            self.pull_accounts()\n",
    "        df = pd.DataFrame(self._all_accounts.items())\n",
    "        df.columns = ['account_id', 'account_name']\n",
    "        if filter_old:\n",
    "            df = df[df.account_name.str.contains('^[a-z]{2}\\_jobseeker\\_usd\\_.*', regex=True, na=False)]\n",
    "            df = df[~df.account_name.str.contains('^.*\\_aed\\_.*', regex=True, na=False)]\n",
    "            df = df[~df.account_name.str.contains('^.*\\_app\\_promo.*', regex=True, na=False)]\n",
    "            df = df[~df.account_name.str.contains('^.*\\_app\\_active.*', regex=True, na=False)]\n",
    "            df = df[~df.account_name.str.contains('^.*\\_disabled.*', regex=True, na=False)]\n",
    "            df = df[~df.account_name.str.contains('^.*\\_display\\_.*', regex=True, na=False)]\n",
    "            df = df[~df.account_name.str.contains('^.*\\_content\\_.*', regex=True, na=False)]\n",
    "            df = df[~df.account_name.str.contains('^.*\\_dsa\\_.*', regex=True, na=False)]\n",
    "            df['country'] = df.account_name.apply(lambda x: x[0:2])\n",
    "        self._new_accounts_df = df.sort_values('country')\n",
    "    \n",
    "    def get_all_countries(self):\n",
    "        if self._new_accounts_df is None:\n",
    "            self.get_accounts()   \n",
    "        return self._new_accounts_df.groupby('country')['country'].count().to_dict()\n",
    "    \n",
    "    def get_non_eta_ads(self, account_id):\n",
    "        self._client.SetClientCustomerId(account_id)\n",
    "        report_downloader = self._client.GetReportDownloader(version=self._version)\n",
    "        qry = ('SELECT CampaignId, CampaignStatus, AdGroupId, AdGroupStatus, Id, AdType, Impressions, Clicks, Cost FROM '\n",
    "               'AD_PERFORMANCE_REPORT WHERE Status IN [ENABLED] AND CampaignStatus in [ENABLED, PAUSED] '\n",
    "               'AND AdGroupStatus in [ENABLED, PAUSED] DURING {0}, {1}').format(self._start, self._end)  \n",
    "        stream_data = report_downloader.DownloadReportAsStringWithAwql(qry, 'CSV',\n",
    "                skip_report_header=True, skip_column_header=False,\n",
    "                skip_report_summary=True, include_zero_impressions=True)\n",
    "        report_data = StringIO(stream_data)\n",
    "        report_df = pd.DataFrame.from_csv(report_data, sep=',').reset_index()\n",
    "        report_df = report_df.sort_values('Impressions', ascending=True)\n",
    "        return report_df[report_df['Ad type']=='Text ad']\n",
    "    \n",
    "    def get_all_ads(self, account_id):\n",
    "        self._client.SetClientCustomerId(account_id)\n",
    "        report_downloader = self._client.GetReportDownloader(version=self._version)\n",
    "        qry = ('SELECT CampaignId, AdGroupId, Id, AdType, Impressions, Clicks, Cost FROM '\n",
    "               'AD_PERFORMANCE_REPORT WHERE Status IN [ENABLED] AND CampaignStatus in [ENABLED, PAUSED] '\n",
    "               'AND AdGroupStatus in [ENABLED, PAUSED] DURING {0}, {1}').format(self._start, self._end)  \n",
    "        stream_data = report_downloader.DownloadReportAsStringWithAwql(qry, 'CSV',\n",
    "                skip_report_header=True, skip_column_header=False,\n",
    "                skip_report_summary=True, include_zero_impressions=True)\n",
    "        report_data = StringIO(stream_data)\n",
    "        report_df = pd.DataFrame.from_csv(report_data, sep=',').reset_index()\n",
    "        report_df = report_df.sort_values('Impressions', ascending=True)\n",
    "        return report_df\n",
    "    \n",
    "    def percent_standard_text_ad(self, ads):\n",
    "        grp = ads.groupby('Ad type')['Ad ID'].count()\n",
    "        enum = 1.*grp.get('Text ad', 0)\n",
    "        denom = sum(grp)\n",
    "        if denom==0:\n",
    "            return 9+enum\n",
    "        return round(enum/denom, 2)\n",
    "    \n",
    "    def country_accounts(self, country):\n",
    "        accounts = self._new_accounts_df[self._new_accounts_df.country==country]\n",
    "        return accounts.set_index('account_id')['account_name'].to_dict()\n",
    "    \n",
    "    def formatter(self, data):\n",
    "        tmp = pd.DataFrame(data.items())\n",
    "        tmp.columns = ['account', 'standart_text_ad_percentage']\n",
    "        tmp['standart_text_ad_percentage'] = tmp['standart_text_ad_percentage']*100\n",
    "        return tmp.set_index('account')\n",
    "    \n",
    "    def country_standard_text_ad_coverage(self, country, clean=False):\n",
    "        accounts = self.country_accounts(country)\n",
    "        account_coverage = {}\n",
    "        for i in accounts:\n",
    "            ads = a.get_all_ads(i)\n",
    "            account_coverage[accounts[i]] = self.percent_standard_text_ad(ads)\n",
    "        if not clean:\n",
    "            return account_coverage\n",
    "        else:\n",
    "            return self.formatter(account_coverage)\n",
    "    \n",
    "    def country_standard_text_ad_coverage_all(self):\n",
    "        frames = []\n",
    "        for i in self.get_all_countries():\n",
    "            if i in ('ae', 'ar', 'at', 'au', 'be', 'bh', 'br', 'ca', 'ch'):\n",
    "                continue\n",
    "            tmp = self.country_standard_text_ad_coverage(i, clean=True)\n",
    "            frames.append(tmp)\n",
    "        return pd.concat(frames)    \n",
    "    \n",
    "    \n",
    "    def delete_multiple_ads(self, account_id, df_data, verbose=False):\n",
    "        self._client.SetClientCustomerId(account_id)\n",
    "        ad_group_ad_service = self._client.GetService('AdGroupAdService', version=self._version)\n",
    "        \n",
    "        # construct operations\n",
    "        operations = []\n",
    "        for i, j in zip(df_data['Ad group ID'], df_data['Ad ID']):\n",
    "            operations.append({'operator': 'REMOVE', \n",
    "                               'operand': {'xsi_type': 'AdGroupAd',\n",
    "                                           'adGroupId': i,\n",
    "                                           'ad': {'id': j}\n",
    "                                          }\n",
    "                               })\n",
    "        # start deleting\n",
    "        for i in xrange(0, len(operations), self._max_operations):\n",
    "            tmp_operations = operations[i:i+self._max_operations]\n",
    "            result = ad_group_ad_service.mutate(tmp_operations)\n",
    "            if verbose:\n",
    "                for ad in result['value']:\n",
    "                    print ('Ad with id \"{0}\" and type \"{1}\" was deleted.'.format(ad['ad']['id'], ad['ad']['Ad.Type']))"
   ]
  },
  {
   "cell_type": "code",
   "execution_count": 66,
   "metadata": {
    "collapsed": true
   },
   "outputs": [],
   "source": [
    "a = adwords_accounts('20171001', '20171020')"
   ]
  },
  {
   "cell_type": "code",
   "execution_count": 67,
   "metadata": {},
   "outputs": [],
   "source": [
    "countries = a.get_all_countries()"
   ]
  },
  {
   "cell_type": "code",
   "execution_count": null,
   "metadata": {},
   "outputs": [],
   "source": [
    "x = a.country_standard_text_ad_coverage('us', True)"
   ]
  },
  {
   "cell_type": "code",
   "execution_count": 126,
   "metadata": {},
   "outputs": [],
   "source": [
    "#x.to_csv('v.csv')"
   ]
  },
  {
   "cell_type": "code",
   "execution_count": 65,
   "metadata": {},
   "outputs": [
    {
     "data": {
      "text/html": [
       "<div>\n",
       "<style>\n",
       "    .dataframe thead tr:only-child th {\n",
       "        text-align: right;\n",
       "    }\n",
       "\n",
       "    .dataframe thead th {\n",
       "        text-align: left;\n",
       "    }\n",
       "\n",
       "    .dataframe tbody tr th {\n",
       "        vertical-align: top;\n",
       "    }\n",
       "</style>\n",
       "<table border=\"1\" class=\"dataframe\">\n",
       "  <thead>\n",
       "    <tr style=\"text-align: right;\">\n",
       "      <th></th>\n",
       "      <th>standart_text_ad_percentage</th>\n",
       "    </tr>\n",
       "    <tr>\n",
       "      <th>account</th>\n",
       "      <th></th>\n",
       "    </tr>\n",
       "  </thead>\n",
       "  <tbody>\n",
       "    <tr>\n",
       "      <th>us_jobseeker_usd_exactmatch_1_en</th>\n",
       "      <td>5.0</td>\n",
       "    </tr>\n",
       "  </tbody>\n",
       "</table>\n",
       "</div>"
      ],
      "text/plain": [
       "                                  standart_text_ad_percentage\n",
       "account                                                      \n",
       "us_jobseeker_usd_exactmatch_1_en                          5.0"
      ]
     },
     "execution_count": 65,
     "metadata": {},
     "output_type": "execute_result"
    }
   ],
   "source": [
    "x"
   ]
  },
  {
   "cell_type": "code",
   "execution_count": 73,
   "metadata": {},
   "outputs": [],
   "source": [
    "non_etas = a.get_non_eta_ads('8745534751')"
   ]
  },
  {
   "cell_type": "code",
   "execution_count": 72,
   "metadata": {},
   "outputs": [],
   "source": [
    "a.delete_multiple_ads(8745534751, non_etas)"
   ]
  },
  {
   "cell_type": "code",
   "execution_count": 71,
   "metadata": {},
   "outputs": [
    {
     "data": {
      "text/plain": [
       "4607"
      ]
     },
     "execution_count": 71,
     "metadata": {},
     "output_type": "execute_result"
    }
   ],
   "source": [
    "len(non_etas)"
   ]
  },
  {
   "cell_type": "code",
   "execution_count": 74,
   "metadata": {},
   "outputs": [
    {
     "data": {
      "text/html": [
       "<div>\n",
       "<style>\n",
       "    .dataframe thead tr:only-child th {\n",
       "        text-align: right;\n",
       "    }\n",
       "\n",
       "    .dataframe thead th {\n",
       "        text-align: left;\n",
       "    }\n",
       "\n",
       "    .dataframe tbody tr th {\n",
       "        vertical-align: top;\n",
       "    }\n",
       "</style>\n",
       "<table border=\"1\" class=\"dataframe\">\n",
       "  <thead>\n",
       "    <tr style=\"text-align: right;\">\n",
       "      <th></th>\n",
       "      <th>Campaign ID</th>\n",
       "      <th>Campaign state</th>\n",
       "      <th>Ad group ID</th>\n",
       "      <th>Ad group state</th>\n",
       "      <th>Ad ID</th>\n",
       "      <th>Ad type</th>\n",
       "      <th>Impressions</th>\n",
       "      <th>Clicks</th>\n",
       "      <th>Cost</th>\n",
       "    </tr>\n",
       "  </thead>\n",
       "  <tbody>\n",
       "  </tbody>\n",
       "</table>\n",
       "</div>"
      ],
      "text/plain": [
       "Empty DataFrame\n",
       "Columns: [Campaign ID, Campaign state, Ad group ID, Ad group state, Ad ID, Ad type, Impressions, Clicks, Cost]\n",
       "Index: []"
      ]
     },
     "execution_count": 74,
     "metadata": {},
     "output_type": "execute_result"
    }
   ],
   "source": [
    "non_etas"
   ]
  },
  {
   "cell_type": "code",
   "execution_count": null,
   "metadata": {},
   "outputs": [],
   "source": []
  }
 ],
 "metadata": {
  "kernelspec": {
   "display_name": "Python 2 (scratch)",
   "language": "python",
   "name": "scratch"
  },
  "language_info": {
   "codemirror_mode": {
    "name": "ipython",
    "version": 2
   },
   "file_extension": ".py",
   "mimetype": "text/x-python",
   "name": "python",
   "nbconvert_exporter": "python",
   "pygments_lexer": "ipython2",
   "version": "2.7.9"
  }
 },
 "nbformat": 4,
 "nbformat_minor": 2
}
