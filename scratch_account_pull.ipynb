{
 "cells": [
  {
   "cell_type": "code",
   "execution_count": 47,
   "metadata": {
    "collapsed": true
   },
   "outputs": [],
   "source": [
    "#!/usr/bin/env python\n",
    "from googleads import adwords\n",
    "import pandas as pd\n",
    "from StringIO import StringIO"
   ]
  },
  {
   "cell_type": "code",
   "execution_count": 118,
   "metadata": {},
   "outputs": [],
   "source": [
    "class adwords_accounts(object):\n",
    "    def __init__(self, start, end, version='v201705'):\n",
    "        self._page_size = 500\n",
    "        self._client = adwords.AdWordsClient.LoadFromStorage()\n",
    "        self._version = version\n",
    "        self._all_accounts = {}\n",
    "        self._new_accounts_df = None\n",
    "        self._start = start\n",
    "        self._end = end\n",
    "            \n",
    "    def pull_accounts(self):\n",
    "        mcc = self._client.GetService('ManagedCustomerService', version=self._version)\n",
    "        offset = 0\n",
    "        selector = {\n",
    "            'fields': ['CustomerId', 'Name'],\n",
    "            'predicates': [{'field' : 'ExcludeHiddenAccounts',\n",
    "                            'operator' : 'EQUALS' ,\n",
    "                            'values' : 'true'\n",
    "                            }],\n",
    "            'paging': {\n",
    "                'startIndex': str(offset),\n",
    "                'numberResults': str(self._page_size)\n",
    "            }\n",
    "        }\n",
    "        more_pages = True\n",
    "        while more_pages:\n",
    "            page = mcc.get(selector)\n",
    "            if 'entries' in page and page['entries']:\n",
    "                for account in page['entries']:\n",
    "                    self._all_accounts[account['customerId']] = account['name']\n",
    "            offset += self._page_size\n",
    "            selector['paging']['startIndex'] = str(offset)\n",
    "            more_pages = offset < int(page['totalNumEntries'])\n",
    "    \n",
    "    def get_accounts(self, filter_old=True):\n",
    "        if not self._all_accounts:\n",
    "            self.pull_accounts()\n",
    "        df = pd.DataFrame(self._all_accounts.items())\n",
    "        df.columns = ['account_id', 'account_name']\n",
    "        if filter_old:\n",
    "            df = df[df.account_name.str.contains('^[a-z]{2}\\_jobseeker\\_usd\\_.*', regex=True, na=False)]\n",
    "            df = df[~df.account_name.str.contains('^.*\\_aed\\_.*', regex=True, na=False)]\n",
    "            df = df[~df.account_name.str.contains('^.*\\_app\\_promo.*', regex=True, na=False)]\n",
    "            df = df[~df.account_name.str.contains('^.*\\_app\\_active.*', regex=True, na=False)]\n",
    "            df = df[~df.account_name.str.contains('^.*\\_disabled.*', regex=True, na=False)]\n",
    "            df = df[~df.account_name.str.contains('^.*\\_display\\_.*', regex=True, na=False)]\n",
    "            df = df[~df.account_name.str.contains('^.*\\_content\\_.*', regex=True, na=False)]\n",
    "            df = df[~df.account_name.str.contains('^.*\\_dsa\\_.*', regex=True, na=False)]\n",
    "            df['country'] = df.account_name.apply(lambda x: x[0:2])\n",
    "        self._new_accounts_df = df.sort_values('country')\n",
    "    \n",
    "    def get_all_countries(self):\n",
    "        if self._new_accounts_df is None:\n",
    "            self.get_accounts()   \n",
    "        return self._new_accounts_df.groupby('country')['country'].count().to_dict()\n",
    "    \n",
    "    def get_non_eta_ads(self, account_id):\n",
    "        self._client.SetClientCustomerId(account_id)\n",
    "        report_downloader = self._client.GetReportDownloader(version=self._version)\n",
    "        qry = ('SELECT CampaignId, CampaignStatus, AdGroupId, AdGroupStatus, Id, AdType, Impressions, Clicks, Cost FROM '\n",
    "               'AD_PERFORMANCE_REPORT WHERE Status IN [ENABLED] AND CampaignStatus in [ENABLED, PAUSED] '\n",
    "               'AND AdGroupStatus in [ENABLED, PAUSED] DURING {0}, {1}').format(self._start, self._end)  \n",
    "        stream_data = report_downloader.DownloadReportAsStringWithAwql(qry, 'CSV',\n",
    "                skip_report_header=True, skip_column_header=False,\n",
    "                skip_report_summary=True, include_zero_impressions=True)\n",
    "        report_data = StringIO(stream_data)\n",
    "        report_df = pd.DataFrame.from_csv(report_data, sep=',').reset_index()\n",
    "        report_df = report_df.sort_values('Impressions', ascending=True)\n",
    "        return report_df[report_df['Ad type']=='Text ad']\n",
    "    \n",
    "    def get_all_ads(self, account_id):\n",
    "        self._client.SetClientCustomerId(account_id)\n",
    "        report_downloader = self._client.GetReportDownloader(version=self._version)\n",
    "        qry = ('SELECT CampaignId, AdGroupId, Id, AdType, Impressions, Clicks, Cost FROM '\n",
    "               'AD_PERFORMANCE_REPORT WHERE Status IN [ENABLED] AND CampaignStatus in [ENABLED, PAUSED] '\n",
    "               'AND AdGroupStatus in [ENABLED, PAUSED] DURING {0}, {1}').format(self._start, self._end)  \n",
    "        stream_data = report_downloader.DownloadReportAsStringWithAwql(qry, 'CSV',\n",
    "                skip_report_header=True, skip_column_header=False,\n",
    "                skip_report_summary=True, include_zero_impressions=True)\n",
    "        report_data = StringIO(stream_data)\n",
    "        report_df = pd.DataFrame.from_csv(report_data, sep=',').reset_index()\n",
    "        report_df = report_df.sort_values('Impressions', ascending=True)\n",
    "        return report_df\n",
    "    \n",
    "    def percent_standard_text_ad(self, ads):\n",
    "        grp = ads.groupby('Ad type')['Ad ID'].count()\n",
    "        enum = 1.*grp.get('Text ad', 0)\n",
    "        denom = sum(grp)\n",
    "        if denom==0:\n",
    "            return 9+enum\n",
    "        return round(enum/denom, 2)\n",
    "    \n",
    "    def country_accounts(self, country):\n",
    "        accounts = self._new_accounts_df[self._new_accounts_df.country==country]\n",
    "        return accounts.set_index('account_id')['account_name'].to_dict()\n",
    "    \n",
    "    def formatter(self, data):\n",
    "        tmp = pd.DataFrame(data.items())\n",
    "        tmp.columns = ['account', 'standart_text_ad_percentage']\n",
    "        tmp['standart_text_ad_percentage'] = tmp['standart_text_ad_percentage']*100\n",
    "        return tmp.set_index('account')\n",
    "    \n",
    "    def country_standard_text_ad_coverage(self, country, clean=False):\n",
    "        accounts = self.country_accounts(country)\n",
    "        account_coverage = {}\n",
    "        for i in accounts:\n",
    "            ads = a.get_all_ads(i)\n",
    "            account_coverage[accounts[i]] = self.percent_standard_text_ad(ads)\n",
    "        if not clean:\n",
    "            return account_coverage\n",
    "        else:\n",
    "            return self.formatter(account_coverage)\n",
    "    \n",
    "    def country_standard_text_ad_coverage_all(self):\n",
    "        frames = []\n",
    "        for i in self.get_all_countries():\n",
    "            if i in ('ae', 'ar', 'at', 'au', 'be', 'bh', 'br', 'ca', 'ch'):\n",
    "                continue\n",
    "            tmp = self.country_standard_text_ad_coverage(i, clean=True)\n",
    "            frames.append(tmp)\n",
    "        return pd.concat(frames)     "
   ]
  },
  {
   "cell_type": "code",
   "execution_count": 119,
   "metadata": {
    "collapsed": true
   },
   "outputs": [],
   "source": [
    "a = adwords_accounts('20170901', '20170920')"
   ]
  },
  {
   "cell_type": "code",
   "execution_count": 120,
   "metadata": {},
   "outputs": [],
   "source": [
    "countries = a.get_all_countries()"
   ]
  },
  {
   "cell_type": "code",
   "execution_count": 123,
   "metadata": {},
   "outputs": [],
   "source": [
    "x = a.country_standard_text_ad_coverage_all()"
   ]
  },
  {
   "cell_type": "code",
   "execution_count": 126,
   "metadata": {},
   "outputs": [],
   "source": [
    "x.to_csv('v.csv')"
   ]
  },
  {
   "cell_type": "code",
   "execution_count": null,
   "metadata": {},
   "outputs": [],
   "source": []
  }
 ],
 "metadata": {
  "kernelspec": {
   "display_name": "Python 2 (scratch)",
   "language": "python",
   "name": "scratch"
  },
  "language_info": {
   "codemirror_mode": {
    "name": "ipython",
    "version": 2
   },
   "file_extension": ".py",
   "mimetype": "text/x-python",
   "name": "python",
   "nbconvert_exporter": "python",
   "pygments_lexer": "ipython2",
   "version": "2.7.9"
  }
 },
 "nbformat": 4,
 "nbformat_minor": 2
}
