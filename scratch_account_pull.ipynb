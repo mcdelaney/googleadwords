{
 "cells": [
  {
   "cell_type": "code",
   "execution_count": 274,
   "metadata": {
    "collapsed": true
   },
   "outputs": [],
   "source": [
    "#!/usr/bin/env python\n",
    "from googleads import adwords\n",
    "import pandas as pd\n",
    "from StringIO import StringIO"
   ]
  },
  {
   "cell_type": "code",
   "execution_count": 283,
   "metadata": {},
   "outputs": [],
   "source": [
    "class adwords_accounts(object):\n",
    "    def __init__(self, start, end, version='v201705'):\n",
    "        self._page_size = 500\n",
    "        self._client = adwords.AdWordsClient.LoadFromStorage()\n",
    "        self._version = version\n",
    "        self._accounts = {}\n",
    "        self._df_accounts = None\n",
    "        self._start = start\n",
    "        self._end = end\n",
    "            \n",
    "    def pull_accounts(self):\n",
    "        mcc = self._client.GetService('ManagedCustomerService', version=self._version)\n",
    "                    # Construct selector to get all accounts.\n",
    "        offset = 0\n",
    "        selector = {\n",
    "            'fields': ['CustomerId', 'Name'],\n",
    "            'predicates': [{'field' : 'ExcludeHiddenAccounts',\n",
    "                            'operator' : 'EQUALS' ,\n",
    "                            'values' : 'true'\n",
    "                            }],\n",
    "            'paging': {\n",
    "                'startIndex': str(offset),\n",
    "                'numberResults': str(self._page_size)\n",
    "            }\n",
    "        }\n",
    "        more_pages = True\n",
    "        while more_pages:\n",
    "            # Get serviced account graph.\n",
    "            page = mcc.get(selector)\n",
    "            if 'entries' in page and page['entries']:\n",
    "                for account in page['entries']:\n",
    "                    self._accounts[account['customerId']] = account['name']\n",
    "            offset += self._page_size\n",
    "            selector['paging']['startIndex'] = str(offset)\n",
    "            more_pages = offset < int(page['totalNumEntries'])\n",
    "    \n",
    "    def get_accounts(self, filter_old=True):\n",
    "        if not self._accounts:\n",
    "            self.pull_accounts()\n",
    "        df = pd.DataFrame(self._accounts.items())\n",
    "        df.columns = ['account_id', 'account_name']\n",
    "        if filter_old:\n",
    "            df = df[df.account_name.str.contains('^[a-z]{2}\\_jobseeker\\_usd\\_.*', regex=True, na=False)]\n",
    "            df = df[~df.account_name.str.contains('^.*\\_aed\\_.*', regex=True, na=False)]\n",
    "            df = df[~df.account_name.str.contains('^.*\\_app\\_promo.*', regex=True, na=False)]\n",
    "            df = df[~df.account_name.str.contains('^.*\\_app\\_active.*', regex=True, na=False)]\n",
    "            df = df[~df.account_name.str.contains('^.*\\_disabled.*', regex=True, na=False)]\n",
    "            df = df[~df.account_name.str.contains('^.*\\_display\\_.*', regex=True, na=False)]\n",
    "            df = df[~df.account_name.str.contains('^.*\\_content\\_.*', regex=True, na=False)]\n",
    "            df = df[~df.account_name.str.contains('^.*\\_dsa\\_.*', regex=True, na=False)]\n",
    "            df['country'] = df.account_name.apply(lambda x: x[0:2])\n",
    "        self._df_accounts = df.sort_values('country')\n",
    "    \n",
    "    def get_all_countries(self):\n",
    "        if self._df_accounts is None:\n",
    "            self.get_accounts()   \n",
    "        return self._df_accounts.groupby('country')['country'].count().to_dict()\n",
    "    \n",
    "    def get_non_eta_ads(self, account_id):\n",
    "        self._client.SetClientCustomerId(account_id)\n",
    "        report_downloader = self._client.GetReportDownloader(version=self._version)\n",
    "        qry = ('SELECT CampaignId, AdGroupId, AdGroupStatus, Id, AdType, Impressions, Clicks, Cost FROM '\n",
    "               'AD_PERFORMANCE_REPORT WHERE Status IN [ENABLED] '\n",
    "               'AND AdGroupStatus in [ENABLED, PAUSED] DURING {0}, {1}').format(self._start, self._end)  \n",
    "        stream_data = report_downloader.DownloadReportAsStringWithAwql(qry, 'CSV',\n",
    "                skip_report_header=True, skip_column_header=False,\n",
    "                skip_report_summary=True, include_zero_impressions=True)\n",
    "        report_data = StringIO(stream_data)\n",
    "        report_df = pd.DataFrame.from_csv(report_data, sep=',').reset_index()\n",
    "        report_df = report_df.sort_values('Impressions', ascending=True)\n",
    "        return report_df[report_df['Ad type']=='Text ad']\n"
   ]
  },
  {
   "cell_type": "code",
   "execution_count": 284,
   "metadata": {
    "collapsed": true
   },
   "outputs": [],
   "source": [
    "a = adwords_accounts('20170701', '20170801')"
   ]
  },
  {
   "cell_type": "code",
   "execution_count": 285,
   "metadata": {},
   "outputs": [],
   "source": [
    "a.get_all_countries();"
   ]
  },
  {
   "cell_type": "code",
   "execution_count": 286,
   "metadata": {},
   "outputs": [
    {
     "data": {
      "text/html": [
       "<div>\n",
       "<style>\n",
       "    .dataframe thead tr:only-child th {\n",
       "        text-align: right;\n",
       "    }\n",
       "\n",
       "    .dataframe thead th {\n",
       "        text-align: left;\n",
       "    }\n",
       "\n",
       "    .dataframe tbody tr th {\n",
       "        vertical-align: top;\n",
       "    }\n",
       "</style>\n",
       "<table border=\"1\" class=\"dataframe\">\n",
       "  <thead>\n",
       "    <tr style=\"text-align: right;\">\n",
       "      <th></th>\n",
       "      <th>Campaign ID</th>\n",
       "      <th>Ad group ID</th>\n",
       "      <th>Ad group state</th>\n",
       "      <th>Ad ID</th>\n",
       "      <th>Ad type</th>\n",
       "      <th>Impressions</th>\n",
       "      <th>Clicks</th>\n",
       "      <th>Cost</th>\n",
       "    </tr>\n",
       "  </thead>\n",
       "  <tbody>\n",
       "  </tbody>\n",
       "</table>\n",
       "</div>"
      ],
      "text/plain": [
       "Empty DataFrame\n",
       "Columns: [Campaign ID, Ad group ID, Ad group state, Ad ID, Ad type, Impressions, Clicks, Cost]\n",
       "Index: []"
      ]
     },
     "execution_count": 286,
     "metadata": {},
     "output_type": "execute_result"
    }
   ],
   "source": [
    "a.get_non_eta_ads(8676005523)"
   ]
  },
  {
   "cell_type": "code",
   "execution_count": 264,
   "metadata": {},
   "outputs": [
    {
     "name": "stdout",
     "output_type": "stream",
     "text": [
      "     account_id                          account_name country\n",
      "710  8676005523      ae_jobseeker_usd_broadmatch_0_en      ae\n",
      "314  8327166874            ae_jobseeker_usd_main_0_en      ae\n",
      "552  8306578974      ae_jobseeker_usd_exactmatch_0_en      ae\n",
      "51   6715013252      ae_jobseeker_usd_exactmatch_1_en      ae\n",
      "310  4167248807  ar_jobseeker_usd_broadmatch_0_active      ar\n",
      "398  9714936970            ar_jobseeker_usd_main_0_es      ar\n",
      "528  6072325590      ar_jobseeker_usd_exactmatch_0_es      ar\n",
      "473  2035621172            at_jobseeker_usd_main_0_de      at\n",
      "486  5174482260  at_jobseeker_usd_broadmatch_0_active      at\n",
      "384  2123185258      at_jobseeker_usd_exactmatch_0_de      at\n",
      "601  1844893370            au_jobseeker_usd_main_0_en      au\n",
      "103  2171459886      au_jobseeker_usd_exactmatch_0_en      au\n",
      "587  3137136265      au_jobseeker_usd_broadmatch_0_en      au\n",
      "664  5676685164      au_jobseeker_usd_broadmatch_1_en      au\n",
      "196  3408806462      be_jobseeker_usd_exactmatch_1_nl      be\n",
      "179  4260727515      be_jobseeker_usd_exactmatch_1_fr      be\n",
      "159  3995972039            be_jobseeker_usd_main_0_fr      be\n",
      "700  8199974874      be_jobseeker_usd_broadmatch_0_fr      be\n",
      "301  6822493060      be_jobseeker_usd_broadmatch_0_nl      be\n",
      "281  9081957178            be_jobseeker_usd_main_0_nl      be\n",
      "509  8039427486      be_jobseeker_usd_exactmatch_0_fr      be\n",
      "387  3825435760      be_jobseeker_usd_broadmatch_1_nl      be\n",
      "136  8847884692      be_jobseeker_usd_exactmatch_0_nl      be\n",
      "344  1160967145      be_jobseeker_usd_broadmatch_1_fr      be\n",
      "146  5260116393            bh_jobseeker_usd_main_0_en      bh\n",
      "323  5632796147      br_jobseeker_usd_broadmatch_1_pt      br\n",
      "70   4375408843      br_jobseeker_usd_exactmatch_0_pt      br\n",
      "641  9229762349            br_jobseeker_usd_main_0_pt      br\n",
      "96   3867472150      br_jobseeker_usd_broadmatch_0_pt      br\n",
      "345  5104464886      ca_jobseeker_usd_exactmatch_0_en      ca\n",
      "..          ...                                   ...     ...\n",
      "514  9006675376      uk_jobseeker_usd_broadmatch_1_en      uk\n",
      "410  9655067814      uk_jobseeker_usd_exactmatch_3_en      uk\n",
      "126  4752050539      uk_jobseeker_usd_exactmatch_0_en      uk\n",
      "316  2357019553      uk_jobseeker_usd_exactmatch_4_en      uk\n",
      "438  9215823079      uk_jobseeker_usd_exactmatch_1_en      uk\n",
      "548  6837716226      uk_jobseeker_usd_exactmatch_2_en      uk\n",
      "223  8137984639      uk_jobseeker_usd_broadmatch_0_en      uk\n",
      "225  1859451522      us_jobseeker_usd_broadmatch_2_en      us\n",
      "262  1912824586      us_jobseeker_usd_exactmatch_6_en      us\n",
      "690  9769164738      us_jobseeker_usd_exactmatch_4_en      us\n",
      "274  8495299372      us_jobseeker_usd_exactmatch_2_en      us\n",
      "602  8745534751      us_jobseeker_usd_exactmatch_1_en      us\n",
      "186  4403620381      us_jobseeker_usd_broadmatch_0_en      us\n",
      "356  4103148574      us_jobseeker_usd_exactmatch_3_en      us\n",
      "205  5902912087  us_jobseeker_usd_exactmatch_7_active      us\n",
      "589  8708501136      us_jobseeker_usd_exactmatch_5_en      us\n",
      "444  9658766582      us_jobseeker_usd_exactmatch_0_en      us\n",
      "47   4154173554      us_jobseeker_usd_broadmatch_1_en      us\n",
      "1    6447098408      uy_jobseeker_usd_exactmatch_0_es      uy\n",
      "157  9930013120      uy_jobseeker_usd_broadmatch_0_es      uy\n",
      "240  2414416572            ve_jobseeker_usd_main_0_es      ve\n",
      "252  3094846176      vn_jobseeker_usd_exactmatch_0_en      vn\n",
      "276  2349323054      vn_jobseeker_usd_broadmatch_0_vn      vn\n",
      "475  5794595099            vn_jobseeker_usd_main_0_en      vn\n",
      "570  6633676376      vn_jobseeker_usd_broadmatch_0_en      vn\n",
      "113  3897686342            vn_jobseeker_usd_main_0_vn      vn\n",
      "137  1646598550      vn_jobseeker_usd_exactmatch_0_vn      vn\n",
      "350  5552829613            za_jobseeker_usd_main_0_en      za\n",
      "612  8564174547      za_jobseeker_usd_broadmatch_0_en      za\n",
      "104  9410005295      za_jobseeker_usd_exactmatch_0_en      za\n",
      "\n",
      "[232 rows x 3 columns]\n"
     ]
    }
   ],
   "source": [
    "print a._df_accounts"
   ]
  },
  {
   "cell_type": "code",
   "execution_count": null,
   "metadata": {
    "collapsed": true
   },
   "outputs": [],
   "source": []
  }
 ],
 "metadata": {
  "kernelspec": {
   "display_name": "Python 2 (scratch)",
   "language": "python",
   "name": "scratch"
  },
  "language_info": {
   "codemirror_mode": {
    "name": "ipython",
    "version": 2
   },
   "file_extension": ".py",
   "mimetype": "text/x-python",
   "name": "python",
   "nbconvert_exporter": "python",
   "pygments_lexer": "ipython2",
   "version": "2.7.9"
  }
 },
 "nbformat": 4,
 "nbformat_minor": 2
}
