{
 "cells": [
  {
   "cell_type": "code",
   "execution_count": 1,
   "metadata": {
    "collapsed": true
   },
   "outputs": [],
   "source": [
    "#!/usr/bin/env python\n",
    "from googleads import adwords"
   ]
  },
  {
   "cell_type": "code",
   "execution_count": 2,
   "metadata": {
    "collapsed": true
   },
   "outputs": [],
   "source": [
    "def DisplayAccountTree(account, accounts, links, depth=0):\n",
    "    \"\"\"Displays an account tree.\n",
    "\n",
    "    Args:\n",
    "        account: dict The account to display.\n",
    "        accounts: dict Map from customerId to account.\n",
    "        links: dict Map from customerId to child links.\n",
    "        depth: int Depth of the current account in the tree.\n",
    "    \"\"\"\n",
    "    prefix = '-' * depth * 2\n",
    "    print '%s%s, %s' % (prefix, account['customerId'], account['name'])\n",
    "    if account['customerId'] in links:\n",
    "        for child_link in links[account['customerId']]:\n",
    "            child_account = accounts[child_link['clientCustomerId']]\n",
    "            DisplayAccountTree(child_account, accounts, links, depth + 1)\n",
    "\n",
    "\n",
    "def get_accounts(client):\n",
    "    # Initialize appropriate service.\n",
    "    managed_customer_service = client.GetService('ManagedCustomerService', version='v201705')\n",
    "\n",
    "    # Construct selector to get all accounts.\n",
    "    offset = 0\n",
    "    selector = {\n",
    "        'fields': ['CustomerId', 'Name'],\n",
    "        'paging': {\n",
    "           'startIndex': str(offset),\n",
    "           'numberResults': str(PAGE_SIZE)\n",
    "        }\n",
    "    }\n",
    "    more_pages = True\n",
    "    accounts = {}\n",
    "    child_links = {}\n",
    "    parent_links = {}\n",
    "    root_account = None\n",
    "\n",
    "    while more_pages:\n",
    "        # Get serviced account graph.\n",
    "        page = managed_customer_service.get(selector)\n",
    "        if 'entries' in page and page['entries']:\n",
    "            # Create map from customerId to parent and child links.\n",
    "            if 'links' in page:\n",
    "                for link in page['links']:\n",
    "                    if link['managerCustomerId'] not in child_links:\n",
    "                        child_links[link['managerCustomerId']] = []\n",
    "                    child_links[link['managerCustomerId']].append(link)\n",
    "                    if link['clientCustomerId'] not in parent_links:\n",
    "                        parent_links[link['clientCustomerId']] = []\n",
    "                    parent_links[link['clientCustomerId']].append(link)\n",
    "            # Map from customerID to account.\n",
    "            for account in page['entries']:\n",
    "                accounts[account['customerId']] = account\n",
    "        offset += PAGE_SIZE\n",
    "        selector['paging']['startIndex'] = str(offset)\n",
    "        more_pages = offset < int(page['totalNumEntries'])\n",
    "\n",
    "    # Find the root account.\n",
    "    for customer_id in accounts:\n",
    "        if customer_id not in parent_links:\n",
    "            root_account = accounts[customer_id]\n",
    "\n",
    "    # Display account tree.\n",
    "    if root_account:\n",
    "        print 'CustomerId, Name'\n",
    "        DisplayAccountTree(root_account, accounts, child_links, 0)\n",
    "    else:\n",
    "        print 'Unable to determine a root account'"
   ]
  },
  {
   "cell_type": "code",
   "execution_count": null,
   "metadata": {
    "collapsed": true
   },
   "outputs": [],
   "source": [
    "# Initialize client object.\n",
    "PAGE_SIZE = 500\n",
    "adwords_client = adwords.AdWordsClient.LoadFromStorage()\n",
    "get_accounts(adwords_client)"
   ]
  },
  {
   "cell_type": "code",
   "execution_count": null,
   "metadata": {
    "collapsed": true
   },
   "outputs": [],
   "source": []
  }
 ],
 "metadata": {
  "kernelspec": {
   "display_name": "Python 2 (scratch)",
   "language": "python",
   "name": "scratch"
  },
  "language_info": {
   "codemirror_mode": {
    "name": "ipython",
    "version": 2
   },
   "file_extension": ".py",
   "mimetype": "text/x-python",
   "name": "python",
   "nbconvert_exporter": "python",
   "pygments_lexer": "ipython2",
   "version": "2.7.9"
  }
 },
 "nbformat": 4,
 "nbformat_minor": 2
}
