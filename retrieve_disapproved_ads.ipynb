{
 "cells": [
  {
   "cell_type": "code",
   "execution_count": 1,
   "metadata": {
    "collapsed": true
   },
   "outputs": [],
   "source": [
    "from googleads import adwords"
   ]
  },
  {
   "cell_type": "code",
   "execution_count": 22,
   "metadata": {
    "collapsed": true
   },
   "outputs": [],
   "source": [
    "def disapproved_ads(client, ad_group_id):\n",
    "    PAGE_SIZE = 100\n",
    "    ad_group_ad_service = client.GetService('AdGroupAdService', version='v201705')\n",
    "\n",
    "    qry = ('SELECT Id, PolicySummary '\n",
    "           'WHERE AdGroupId = {0} AND CombinedApprovalStatus = DISAPPROVED '\n",
    "           'ORDER BY Id'.format(ad_group_id))\n",
    "    more_pages = True\n",
    "    disapproved_count = 0\n",
    "    offset = 0\n",
    "\n",
    "    while more_pages:\n",
    "        page = ad_group_ad_service.query(qry + ' LIMIT {0}, {1}'.format(offset, PAGE_SIZE))\n",
    "        print type(page)\n",
    "\n",
    "        if 'entries' in page:\n",
    "            for ad in page['entries']:\n",
    "                disapproved_count += 1\n",
    "                policy_summary = ad['policySummary']\n",
    "\n",
    "                print ('Ad with id \"{0}\" was disapproved with the following policy '\n",
    "                       'topic entries:'.format(ad['ad']['id']))\n",
    "\n",
    "                for policy_topic_entry in policy_summary['policyTopicEntries']:\n",
    "                    print '  topic ID: %s, topic name: %s' % (\n",
    "                         policy_topic_entry['policyTopicId'],\n",
    "                         policy_topic_entry['policyTopicName'])\n",
    "\n",
    "        offset += PAGE_SIZE\n",
    "        more_pages = offset < int(page['totalNumEntries'])\n",
    "\n",
    "    print '%d disapproved ads were found.' % disapproved_count\n",
    "    \n",
    "def run(adgroup_id, account_id):\n",
    "    adwords_client = adwords.AdWordsClient.LoadFromStorage()\n",
    "    adwords_client.SetClientCustomerId(account_id)\n",
    "    disapproved_ads(adwords_client, adgroup_id)"
   ]
  },
  {
   "cell_type": "code",
   "execution_count": 23,
   "metadata": {},
   "outputs": [
    {
     "name": "stdout",
     "output_type": "stream",
     "text": [
      "<class 'suds.sudsobject.AdGroupAdPage'>\n",
      "0 disapproved ads were found.\n"
     ]
    }
   ],
   "source": [
    "AD_GROUP_ID = '39246902358'\n",
    "ACCOUNT_ID = '185-945-1522'\n",
    "run(AD_GROUP_ID, ACCOUNT_ID)"
   ]
  },
  {
   "cell_type": "code",
   "execution_count": null,
   "metadata": {
    "collapsed": true
   },
   "outputs": [],
   "source": []
  }
 ],
 "metadata": {
  "kernelspec": {
   "display_name": "Python 2",
   "language": "python",
   "name": "python2"
  },
  "language_info": {
   "codemirror_mode": {
    "name": "ipython",
    "version": 2
   },
   "file_extension": ".py",
   "mimetype": "text/x-python",
   "name": "python",
   "nbconvert_exporter": "python",
   "pygments_lexer": "ipython2",
   "version": "2.7.10"
  }
 },
 "nbformat": 4,
 "nbformat_minor": 2
}
