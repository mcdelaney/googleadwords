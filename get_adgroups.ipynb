{
 "cells": [
  {
   "cell_type": "code",
   "execution_count": 6,
   "metadata": {
    "collapsed": true
   },
   "outputs": [],
   "source": [
    "#!/usr/bin/env python\n",
    "from googleads import adwords"
   ]
  },
  {
   "cell_type": "code",
   "execution_count": 12,
   "metadata": {
    "collapsed": true
   },
   "outputs": [],
   "source": [
    "def get_ad_groups(client, campaign_id):\n",
    "    ad_groups = []\n",
    "    ad_group_service = client.GetService('AdGroupService', version='v201609')\n",
    "\n",
    "    offset = 0\n",
    "    query = \"SELECT Id, BaseAdGroupId, Name, Status WHERE CampaignId= '{0}'\".format(campaign_id)\n",
    "    more_pages = True\n",
    "    while more_pages:\n",
    "        page = ad_group_service.query(query + ' LIMIT %s, %s' % (offset, PAGE_SIZE))\n",
    "        if 'entries' in page:\n",
    "            for ad_group in page['entries']:\n",
    "                if ad_group['status'] == 'ENABLED':\n",
    "                    ad_groups.append(str(ad_group['id']))\n",
    "        offset += PAGE_SIZE\n",
    "        more_pages = offset < int(page['totalNumEntries'])\n",
    "    return ad_groups"
   ]
  },
  {
   "cell_type": "code",
   "execution_count": 13,
   "metadata": {},
   "outputs": [],
   "source": [
    "adwords_client = adwords.AdWordsClient.LoadFromStorage()\n",
    "adwords_client.SetClientCustomerId('644-709-8408')\n",
    "PAGE_SIZE = 100"
   ]
  },
  {
   "cell_type": "code",
   "execution_count": 15,
   "metadata": {},
   "outputs": [],
   "source": [
    "data = get_ad_groups(adwords_client, '874677791')"
   ]
  },
  {
   "cell_type": "code",
   "execution_count": 16,
   "metadata": {},
   "outputs": [
    {
     "data": {
      "text/plain": [
       "80"
      ]
     },
     "execution_count": 16,
     "metadata": {},
     "output_type": "execute_result"
    }
   ],
   "source": [
    "len(data)"
   ]
  },
  {
   "cell_type": "code",
   "execution_count": null,
   "metadata": {
    "collapsed": true
   },
   "outputs": [],
   "source": []
  }
 ],
 "metadata": {
  "kernelspec": {
   "display_name": "Python 2 (scratch)",
   "language": "python",
   "name": "scratch"
  },
  "language_info": {
   "codemirror_mode": {
    "name": "ipython",
    "version": 2
   },
   "file_extension": ".py",
   "mimetype": "text/x-python",
   "name": "python",
   "nbconvert_exporter": "python",
   "pygments_lexer": "ipython2",
   "version": "2.7.9"
  }
 },
 "nbformat": 4,
 "nbformat_minor": 2
}
