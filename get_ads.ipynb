{
 "cells": [
  {
   "cell_type": "code",
   "execution_count": 9,
   "metadata": {
    "collapsed": true
   },
   "outputs": [],
   "source": [
    "#!/usr/bin/env python\n",
    "from googleads import adwords"
   ]
  },
  {
   "cell_type": "code",
   "execution_count": 22,
   "metadata": {
    "collapsed": true
   },
   "outputs": [],
   "source": [
    "import time"
   ]
  },
  {
   "cell_type": "code",
   "execution_count": 33,
   "metadata": {
    "collapsed": true
   },
   "outputs": [],
   "source": [
    "from StringIO import StringIO\n",
    "import pandas as pd"
   ]
  },
  {
   "cell_type": "code",
   "execution_count": 154,
   "metadata": {},
   "outputs": [],
   "source": [
    "class get_ads(object):\n",
    "    def __init__(self, country, start, end):\n",
    "        self._country = country\n",
    "        self._client = adwords.AdWordsClient.LoadFromStorage()\n",
    "        self._page_size = 100\n",
    "        self._start = start\n",
    "        self._end = end\n",
    "    \n",
    "    def get_accounts(self):\n",
    "        managed_customer_service = self._client.GetService('ManagedCustomerService', version='v201609')\n",
    "        selector = {\n",
    "            'fields': ['CustomerId', 'Name']\n",
    "        }    \n",
    "        account_ids = []\n",
    "        page = managed_customer_service.get(selector)\n",
    "        if 'entries' in page and page['entries']:\n",
    "            for account in page['entries']:\n",
    "                if str(account['name']).startswith(self._country + '_') and 'jobseeker' in str(account['name']) \\\n",
    "                    and '_aed_' not in str(account['name']) and '_app' not in str(account['name'])\\\n",
    "                    and '_display_' not in str(account['name']) and '_content_' not in str(account['name']):              \n",
    "                    account_ids.append(str(account['customerId']))         \n",
    "        return account_ids\n",
    "    \n",
    "    def get_campaigns(self, account_id):\n",
    "        self._client.SetClientCustomerId(account_id)\n",
    "        campaign_service = self._client.GetService('CampaignService', version='v201609')\n",
    "    \n",
    "        enabled_campaigns = []\n",
    "        offset = 0\n",
    "        qry = 'SELECT Id, Name, Status ORDER BY Name LIMIT {lower}, {upper}'\n",
    "    \n",
    "        more_pages = True\n",
    "        while more_pages:\n",
    "            page = campaign_service.query(qry.format(lower=offset, upper=self._page_size))\n",
    "    \n",
    "            if 'entries' in page:\n",
    "                for campaign in page['entries']:\n",
    "                    if campaign['status']=='ENABLED' and campaign['name'].lower().find(\"dynamic search ads\")==-1:\n",
    "                        enabled_campaigns.append(str(campaign['id']))\n",
    "    \n",
    "            offset += self._page_size\n",
    "            more_pages = offset < int(page['totalNumEntries'])\n",
    "            time.sleep(1)\n",
    "        return enabled_campaigns\n",
    "    \n",
    "    \n",
    "    def get_ad_groups(self, account_id, campaign_id):\n",
    "        self._client.SetClientCustomerId(account_id)\n",
    "        ad_group_service = self._client.GetService('AdGroupService', version='v201609')\n",
    "        ad_groups = []\n",
    "    \n",
    "        offset = 0\n",
    "        query = \"SELECT Id, BaseAdGroupId, Name, Status WHERE CampaignId= '{0}'\".format(campaign_id)\n",
    "        more_pages = True\n",
    "        while more_pages:\n",
    "            page = ad_group_service.query(query + ' LIMIT %s, %s' % (offset, self._page_size))\n",
    "            if 'entries' in page:\n",
    "                for ad_group in page['entries']:\n",
    "                    if ad_group['status'] == 'ENABLED':\n",
    "                        ad_groups.append(str(ad_group['id']))\n",
    "            offset += self._page_size\n",
    "            more_pages = offset < int(page['totalNumEntries'])\n",
    "        return ad_groups\n",
    "\n",
    "\n",
    "    def get_ad_data(self, account_id, campaign_id):\n",
    "        self._client.SetClientCustomerId(account_id)\n",
    "        report_downloader = self._client.GetReportDownloader(version='v201705')\n",
    "        qry = ('SELECT CampaignId, AdGroupId, Id, Impressions, Clicks, Cost FROM '\n",
    "               'AD_PERFORMANCE_REPORT WHERE Status IN [ENABLED] AND CampaignId={2} '\n",
    "               'DURING {0}, {1}').format(self._start, self._end, campaign_id)  \n",
    "        stream_data = report_downloader.DownloadReportAsStringWithAwql(qry, 'CSV',\n",
    "                skip_report_header=True, skip_column_header=False,\n",
    "                skip_report_summary=True, include_zero_impressions=True)\n",
    "        report_data = StringIO(stream_data)\n",
    "        report_df = pd.DataFrame.from_csv(report_data, sep=',').reset_index()\n",
    "        return report_df\n",
    "    \n",
    "    def run(self, account_id, campaign_id):\n",
    "        data = self.get_ad_data(account_id, campaign_id)\n",
    "        count_ads = data.groupby(['Campaign ID', 'Ad group ID'])['Ad ID'].count().reset_index()\n",
    "        #adgroup with greater than 3 ads\n",
    "        filtered = count_ads[count_ads['Ad ID']>3][['Campaign ID', 'Ad group ID']]\n",
    "        #add info \n",
    "        with_info = pd.merge(filtered, data, how='left', on=['Campaign ID', 'Ad group ID'])\n",
    "        with_info = with_info[['Campaign ID', 'Ad group ID', 'Ad ID', 'Impressions', 'Clicks']]\n",
    "        #ctr\n",
    "        with_info['ctr'] = with_info['Clicks']/with_info['Impressions']\n",
    "        with_info = with_info.fillna(0)\n",
    "        return with_info\n"
   ]
  },
  {
   "cell_type": "code",
   "execution_count": 155,
   "metadata": {},
   "outputs": [],
   "source": [
    "a = get_ads('uy', '20170601', '20170731')"
   ]
  },
  {
   "cell_type": "code",
   "execution_count": 57,
   "metadata": {},
   "outputs": [
    {
     "data": {
      "text/plain": [
       "['9930013120', '6447098408']"
      ]
     },
     "execution_count": 57,
     "metadata": {},
     "output_type": "execute_result"
    }
   ],
   "source": [
    "a.get_accounts()"
   ]
  },
  {
   "cell_type": "code",
   "execution_count": 38,
   "metadata": {},
   "outputs": [
    {
     "data": {
      "text/plain": [
       "['874677791']"
      ]
     },
     "execution_count": 38,
     "metadata": {},
     "output_type": "execute_result"
    }
   ],
   "source": [
    "a.get_campaigns(6447098408)"
   ]
  },
  {
   "cell_type": "code",
   "execution_count": 39,
   "metadata": {},
   "outputs": [
    {
     "data": {
      "text/plain": [
       "80"
      ]
     },
     "execution_count": 39,
     "metadata": {},
     "output_type": "execute_result"
    }
   ],
   "source": [
    "len(a.get_ad_groups(6447098408, 874677791))"
   ]
  },
  {
   "cell_type": "code",
   "execution_count": 60,
   "metadata": {},
   "outputs": [],
   "source": [
    "data = a.get_ad_data(6447098408, 874677791)"
   ]
  },
  {
   "cell_type": "code",
   "execution_count": 156,
   "metadata": {},
   "outputs": [
    {
     "data": {
      "text/html": [
       "<div>\n",
       "<table border=\"1\" class=\"dataframe\">\n",
       "  <thead>\n",
       "    <tr style=\"text-align: right;\">\n",
       "      <th></th>\n",
       "      <th>Campaign ID</th>\n",
       "      <th>Ad group ID</th>\n",
       "      <th>Ad ID</th>\n",
       "      <th>Impressions</th>\n",
       "      <th>Clicks</th>\n",
       "      <th>ctr</th>\n",
       "    </tr>\n",
       "  </thead>\n",
       "  <tbody>\n",
       "    <tr>\n",
       "      <th>0</th>\n",
       "      <td>874677791</td>\n",
       "      <td>45713167844</td>\n",
       "      <td>205016022122</td>\n",
       "      <td>498</td>\n",
       "      <td>27</td>\n",
       "      <td>0.054217</td>\n",
       "    </tr>\n",
       "    <tr>\n",
       "      <th>1</th>\n",
       "      <td>874677791</td>\n",
       "      <td>45713167844</td>\n",
       "      <td>205016021996</td>\n",
       "      <td>506</td>\n",
       "      <td>159</td>\n",
       "      <td>0.314229</td>\n",
       "    </tr>\n",
       "    <tr>\n",
       "      <th>2</th>\n",
       "      <td>874677791</td>\n",
       "      <td>45713167844</td>\n",
       "      <td>205016021999</td>\n",
       "      <td>542</td>\n",
       "      <td>149</td>\n",
       "      <td>0.274908</td>\n",
       "    </tr>\n",
       "    <tr>\n",
       "      <th>3</th>\n",
       "      <td>874677791</td>\n",
       "      <td>45713167844</td>\n",
       "      <td>205016022125</td>\n",
       "      <td>172</td>\n",
       "      <td>1</td>\n",
       "      <td>0.005814</td>\n",
       "    </tr>\n",
       "    <tr>\n",
       "      <th>4</th>\n",
       "      <td>874677791</td>\n",
       "      <td>45713169524</td>\n",
       "      <td>205016022362</td>\n",
       "      <td>0</td>\n",
       "      <td>0</td>\n",
       "      <td>0.000000</td>\n",
       "    </tr>\n",
       "    <tr>\n",
       "      <th>5</th>\n",
       "      <td>874677791</td>\n",
       "      <td>45713169524</td>\n",
       "      <td>205016022365</td>\n",
       "      <td>0</td>\n",
       "      <td>0</td>\n",
       "      <td>0.000000</td>\n",
       "    </tr>\n",
       "    <tr>\n",
       "      <th>6</th>\n",
       "      <td>874677791</td>\n",
       "      <td>45713169524</td>\n",
       "      <td>205016022236</td>\n",
       "      <td>0</td>\n",
       "      <td>0</td>\n",
       "      <td>0.000000</td>\n",
       "    </tr>\n",
       "    <tr>\n",
       "      <th>7</th>\n",
       "      <td>874677791</td>\n",
       "      <td>45713169524</td>\n",
       "      <td>205016022239</td>\n",
       "      <td>0</td>\n",
       "      <td>0</td>\n",
       "      <td>0.000000</td>\n",
       "    </tr>\n",
       "  </tbody>\n",
       "</table>\n",
       "</div>"
      ],
      "text/plain": [
       "   Campaign ID  Ad group ID         Ad ID  Impressions  Clicks       ctr\n",
       "0    874677791  45713167844  205016022122          498      27  0.054217\n",
       "1    874677791  45713167844  205016021996          506     159  0.314229\n",
       "2    874677791  45713167844  205016021999          542     149  0.274908\n",
       "3    874677791  45713167844  205016022125          172       1  0.005814\n",
       "4    874677791  45713169524  205016022362            0       0  0.000000\n",
       "5    874677791  45713169524  205016022365            0       0  0.000000\n",
       "6    874677791  45713169524  205016022236            0       0  0.000000\n",
       "7    874677791  45713169524  205016022239            0       0  0.000000"
      ]
     },
     "execution_count": 156,
     "metadata": {},
     "output_type": "execute_result"
    }
   ],
   "source": [
    "a.run(6447098408, 874677791)"
   ]
  },
  {
   "cell_type": "code",
   "execution_count": 98,
   "metadata": {},
   "outputs": [],
   "source": [
    "ranked = greater_than_3.groupby(['Campaign ID', 'Ad group ID'])['ctr'].rank()"
   ]
  },
  {
   "cell_type": "code",
   "execution_count": 103,
   "metadata": {},
   "outputs": [],
   "source": [
    "x = greater_than_3.sort_values(['Campaign ID', 'Ad group ID', 'ctr'])"
   ]
  },
  {
   "cell_type": "code",
   "execution_count": 117,
   "metadata": {},
   "outputs": [
    {
     "data": {
      "text/html": [
       "<div>\n",
       "<table border=\"1\" class=\"dataframe\">\n",
       "  <thead>\n",
       "    <tr style=\"text-align: right;\">\n",
       "      <th></th>\n",
       "      <th>Campaign ID</th>\n",
       "      <th>Ad ID_x</th>\n",
       "      <th>Ad ID_y</th>\n",
       "      <th>Impressions</th>\n",
       "      <th>Clicks</th>\n",
       "      <th>Cost</th>\n",
       "      <th>ctr</th>\n",
       "    </tr>\n",
       "    <tr>\n",
       "      <th>Ad group ID</th>\n",
       "      <th></th>\n",
       "      <th></th>\n",
       "      <th></th>\n",
       "      <th></th>\n",
       "      <th></th>\n",
       "      <th></th>\n",
       "      <th></th>\n",
       "    </tr>\n",
       "  </thead>\n",
       "  <tbody>\n",
       "    <tr>\n",
       "      <th>45713167844</th>\n",
       "      <td>[874677791, 874677791, 874677791, 874677791]</td>\n",
       "      <td>[4, 4, 4, 4]</td>\n",
       "      <td>[205016021996, 205016021999, 205016022125, 205...</td>\n",
       "      <td>[356, 379, 166, 337]</td>\n",
       "      <td>[110, 107, 0, 19]</td>\n",
       "      <td>[2650000, 2920000, 0, 560000]</td>\n",
       "      <td>[0.308988764045, 0.282321899736, 0.0, 0.056379...</td>\n",
       "    </tr>\n",
       "    <tr>\n",
       "      <th>45713169524</th>\n",
       "      <td>[874677791, 874677791, 874677791, 874677791]</td>\n",
       "      <td>[4, 4, 4, 4]</td>\n",
       "      <td>[205016022362, 205016022365, 205016022236, 205...</td>\n",
       "      <td>[0, 0, 0, 0]</td>\n",
       "      <td>[0, 0, 0, 0]</td>\n",
       "      <td>[0, 0, 0, 0]</td>\n",
       "      <td>[0.0, 0.0, 0.0, 0.0]</td>\n",
       "    </tr>\n",
       "  </tbody>\n",
       "</table>\n",
       "</div>"
      ],
      "text/plain": [
       "                                              Campaign ID       Ad ID_x  \\\n",
       "Ad group ID                                                               \n",
       "45713167844  [874677791, 874677791, 874677791, 874677791]  [4, 4, 4, 4]   \n",
       "45713169524  [874677791, 874677791, 874677791, 874677791]  [4, 4, 4, 4]   \n",
       "\n",
       "                                                       Ad ID_y  \\\n",
       "Ad group ID                                                      \n",
       "45713167844  [205016021996, 205016021999, 205016022125, 205...   \n",
       "45713169524  [205016022362, 205016022365, 205016022236, 205...   \n",
       "\n",
       "                      Impressions             Clicks  \\\n",
       "Ad group ID                                            \n",
       "45713167844  [356, 379, 166, 337]  [110, 107, 0, 19]   \n",
       "45713169524          [0, 0, 0, 0]       [0, 0, 0, 0]   \n",
       "\n",
       "                                      Cost  \\\n",
       "Ad group ID                                  \n",
       "45713167844  [2650000, 2920000, 0, 560000]   \n",
       "45713169524                   [0, 0, 0, 0]   \n",
       "\n",
       "                                                           ctr  \n",
       "Ad group ID                                                     \n",
       "45713167844  [0.308988764045, 0.282321899736, 0.0, 0.056379...  \n",
       "45713169524                               [0.0, 0.0, 0.0, 0.0]  "
      ]
     },
     "execution_count": 117,
     "metadata": {},
     "output_type": "execute_result"
    }
   ],
   "source": [
    "greater_than_3.groupby(['Ad group ID']).aggregate(lambda x: list(x))"
   ]
  },
  {
   "cell_type": "code",
   "execution_count": 122,
   "metadata": {},
   "outputs": [
    {
     "data": {
      "text/html": [
       "<div>\n",
       "<table border=\"1\" class=\"dataframe\">\n",
       "  <thead>\n",
       "    <tr style=\"text-align: right;\">\n",
       "      <th></th>\n",
       "      <th></th>\n",
       "      <th>Ad ID_x</th>\n",
       "      <th>Ad ID_y</th>\n",
       "      <th>Ad group ID</th>\n",
       "      <th>Campaign ID</th>\n",
       "      <th>Clicks</th>\n",
       "      <th>Cost</th>\n",
       "      <th>Impressions</th>\n",
       "      <th>ctr</th>\n",
       "    </tr>\n",
       "    <tr>\n",
       "      <th>Campaign ID</th>\n",
       "      <th>Ad group ID</th>\n",
       "      <th></th>\n",
       "      <th></th>\n",
       "      <th></th>\n",
       "      <th></th>\n",
       "      <th></th>\n",
       "      <th></th>\n",
       "      <th></th>\n",
       "      <th></th>\n",
       "    </tr>\n",
       "  </thead>\n",
       "  <tbody>\n",
       "    <tr>\n",
       "      <th rowspan=\"2\" valign=\"top\">874677791</th>\n",
       "      <th>45713167844</th>\n",
       "      <td>[4]</td>\n",
       "      <td>[205016021996, 205016021999, 205016022125, 205...</td>\n",
       "      <td>[45713167844]</td>\n",
       "      <td>[874677791]</td>\n",
       "      <td>[110, 107, 0, 19]</td>\n",
       "      <td>[2650000, 2920000, 0, 560000]</td>\n",
       "      <td>[356, 379, 166, 337]</td>\n",
       "      <td>[0.308988764045, 0.282321899736, 0.0, 0.056379...</td>\n",
       "    </tr>\n",
       "    <tr>\n",
       "      <th>45713169524</th>\n",
       "      <td>[4]</td>\n",
       "      <td>[205016022362, 205016022365, 205016022236, 205...</td>\n",
       "      <td>[45713169524]</td>\n",
       "      <td>[874677791]</td>\n",
       "      <td>[0]</td>\n",
       "      <td>[0]</td>\n",
       "      <td>[0]</td>\n",
       "      <td>[0.0]</td>\n",
       "    </tr>\n",
       "  </tbody>\n",
       "</table>\n",
       "</div>"
      ],
      "text/plain": [
       "                        Ad ID_x  \\\n",
       "Campaign ID Ad group ID           \n",
       "874677791   45713167844     [4]   \n",
       "            45713169524     [4]   \n",
       "\n",
       "                                                                   Ad ID_y  \\\n",
       "Campaign ID Ad group ID                                                      \n",
       "874677791   45713167844  [205016021996, 205016021999, 205016022125, 205...   \n",
       "            45713169524  [205016022362, 205016022365, 205016022236, 205...   \n",
       "\n",
       "                           Ad group ID  Campaign ID             Clicks  \\\n",
       "Campaign ID Ad group ID                                                  \n",
       "874677791   45713167844  [45713167844]  [874677791]  [110, 107, 0, 19]   \n",
       "            45713169524  [45713169524]  [874677791]                [0]   \n",
       "\n",
       "                                                  Cost           Impressions  \\\n",
       "Campaign ID Ad group ID                                                        \n",
       "874677791   45713167844  [2650000, 2920000, 0, 560000]  [356, 379, 166, 337]   \n",
       "            45713169524                            [0]                   [0]   \n",
       "\n",
       "                                                                       ctr  \n",
       "Campaign ID Ad group ID                                                     \n",
       "874677791   45713167844  [0.308988764045, 0.282321899736, 0.0, 0.056379...  \n",
       "            45713169524                                              [0.0]  "
      ]
     },
     "execution_count": 122,
     "metadata": {},
     "output_type": "execute_result"
    }
   ],
   "source": [
    "#greater_than_3.groupby(['Ad group ID']).apply(lambda tdf: pd.Series(dict([[vv,tdf[vv].unique().tolist()] for vv in tdf if vv not in ['A']])  )) \n",
    "greater_than_3.groupby(['Campaign ID', 'Ad group ID']).apply(lambda tdf: pd.Series(dict([[vv,tdf[vv].unique().tolist()] for vv in tdf if vv not in ['A']])  )) \n"
   ]
  },
  {
   "cell_type": "code",
   "execution_count": 105,
   "metadata": {},
   "outputs": [
    {
     "data": {
      "text/plain": [
       "2         NaN\n",
       "3         inf\n",
       "1    4.007499\n",
       "0    0.094456\n",
       "4   -1.000000\n",
       "5         NaN\n",
       "6         NaN\n",
       "7         NaN\n",
       "Name: ctr, dtype: float64"
      ]
     },
     "execution_count": 105,
     "metadata": {},
     "output_type": "execute_result"
    }
   ],
   "source": [
    "x['ctr'].pct_change()"
   ]
  },
  {
   "cell_type": "code",
   "execution_count": null,
   "metadata": {
    "collapsed": true
   },
   "outputs": [],
   "source": []
  }
 ],
 "metadata": {
  "kernelspec": {
   "display_name": "Python 2 (scratch)",
   "language": "python",
   "name": "scratch"
  },
  "language_info": {
   "codemirror_mode": {
    "name": "ipython",
    "version": 2
   },
   "file_extension": ".py",
   "mimetype": "text/x-python",
   "name": "python",
   "nbconvert_exporter": "python",
   "pygments_lexer": "ipython2",
   "version": "2.7.9"
  }
 },
 "nbformat": 4,
 "nbformat_minor": 2
}
