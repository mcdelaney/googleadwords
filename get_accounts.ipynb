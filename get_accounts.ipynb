{
 "cells": [
  {
   "cell_type": "code",
   "execution_count": 1,
   "metadata": {
    "collapsed": true
   },
   "outputs": [],
   "source": [
    "#!/usr/bin/env python\n",
    "from googleads import adwords"
   ]
  },
  {
   "cell_type": "code",
   "execution_count": 2,
   "metadata": {
    "collapsed": true
   },
   "outputs": [],
   "source": [
    "def get_accounts(client, country):\n",
    "    managed_customer_service = client.GetService('ManagedCustomerService', version='v201609')\n",
    "    selector = {\n",
    "        'fields': ['CustomerId', 'Name']\n",
    "    }    \n",
    "    account_ids = []\n",
    "    page = managed_customer_service.get(selector)\n",
    "    if 'entries' in page and page['entries']:\n",
    "        for account in page['entries']:\n",
    "            if str(account['name']).startswith(country + '_') and 'jobseeker' in str(account['name']) \\\n",
    "                and '_aed_' not in str(account['name']) and '_app' not in str(account['name'])\\\n",
    "                and '_display_' not in str(account['name']) and '_content_' not in str(account['name']):\n",
    "                #print account['name'], account['customerId'], str(account['customerId'])                \n",
    "                account_ids.append(str(account['customerId']))         \n",
    "    return account_ids"
   ]
  },
  {
   "cell_type": "code",
   "execution_count": 3,
   "metadata": {},
   "outputs": [],
   "source": [
    "adwords_client = adwords.AdWordsClient.LoadFromStorage()"
   ]
  },
  {
   "cell_type": "code",
   "execution_count": 4,
   "metadata": {},
   "outputs": [
    {
     "data": {
      "text/plain": [
       "['9930013120', '6447098408']"
      ]
     },
     "execution_count": 4,
     "metadata": {},
     "output_type": "execute_result"
    }
   ],
   "source": [
    "get_accounts(adwords_client, 'uy')"
   ]
  },
  {
   "cell_type": "code",
   "execution_count": 5,
   "metadata": {
    "collapsed": true
   },
   "outputs": [],
   "source": [
    "countries = ['in', 'us', 'uk', 'mx', 'id', 'jp', 'it', 'za', 'de', 'fr',\n",
    "             'br', 'nl', 'ca', 'ru', 'es', 'au', 'tr', 'pl', 'vn', 'ae',\n",
    "             'ch', 'be', 'sg', 'hk', 'ph', 'tw', 'ie', 'my', 'hu', 'se',\n",
    "             'pe', 'ar', 'ua', 'pt', 'at', 'cz', 'pk', 'nz', 'kr', 'eg',\n",
    "             'th', 'qa', 'dk', 'cr', 'pa', 'co', 'ma', 'bh', 'ng', 'no', \n",
    "             'ec', 'lu', 'fi', 'sa', 'uy']"
   ]
  }
 ],
 "metadata": {
  "kernelspec": {
   "display_name": "Python 2 (scratch)",
   "language": "python",
   "name": "scratch"
  },
  "language_info": {
   "codemirror_mode": {
    "name": "ipython",
    "version": 2
   },
   "file_extension": ".py",
   "mimetype": "text/x-python",
   "name": "python",
   "nbconvert_exporter": "python",
   "pygments_lexer": "ipython2",
   "version": "2.7.9"
  }
 },
 "nbformat": 4,
 "nbformat_minor": 2
}
