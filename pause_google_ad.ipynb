{
 "cells": [
  {
   "cell_type": "code",
   "execution_count": 1,
   "metadata": {
    "collapsed": true
   },
   "outputs": [],
   "source": [
    "#!/usr/bin/env python\n",
    "from googleads import adwords"
   ]
  },
  {
   "cell_type": "code",
   "execution_count": 2,
   "metadata": {
    "collapsed": true
   },
   "outputs": [],
   "source": [
    "def pause_ad(client, ad_group_id, ad_id):\n",
    "    ad_group_ad_service = client.GetService('AdGroupAdService', version='v201705')\n",
    "    \n",
    "    operations = [{\n",
    "      'operator': 'SET',\n",
    "      'operand': {\n",
    "          'adGroupId': ad_group_id,\n",
    "          'ad': {\n",
    "              'id': ad_id,\n",
    "          },\n",
    "          'status': 'PAUSED'\n",
    "      }\n",
    "    }]\n",
    "    ads = ad_group_ad_service.mutate(operations)\n",
    "\n",
    "    # Display results.\n",
    "    for ad in ads['value']:\n",
    "        print 'Ad with id \\'%s\\' was updated.'% ad['ad']['id']"
   ]
  },
  {
   "cell_type": "code",
   "execution_count": 3,
   "metadata": {
    "collapsed": true
   },
   "outputs": [],
   "source": [
    "adwords_client = adwords.AdWordsClient.LoadFromStorage()\n",
    "adwords_client.SetClientCustomerId('798-266-5203') #ph_js_usd_main_0_en"
   ]
  },
  {
   "cell_type": "code",
   "execution_count": 4,
   "metadata": {
    "collapsed": true
   },
   "outputs": [],
   "source": [
    "AD_GROUP_ID = '27437918419' #no experience\n",
    "AD_ID = '163699027098'"
   ]
  },
  {
   "cell_type": "code",
   "execution_count": 5,
   "metadata": {},
   "outputs": [
    {
     "name": "stdout",
     "output_type": "stream",
     "text": [
      "Ad with id '163699027098' was updated.\n"
     ]
    }
   ],
   "source": [
    "pause_ad(adwords_client, AD_GROUP_ID, AD_ID)"
   ]
  }
 ],
 "metadata": {
  "kernelspec": {
   "display_name": "Python 2 (scratch)",
   "language": "python",
   "name": "scratch"
  },
  "language_info": {
   "codemirror_mode": {
    "name": "ipython",
    "version": 2
   },
   "file_extension": ".py",
   "mimetype": "text/x-python",
   "name": "python",
   "nbconvert_exporter": "python",
   "pygments_lexer": "ipython2",
   "version": "2.7.9"
  }
 },
 "nbformat": 4,
 "nbformat_minor": 2
}
