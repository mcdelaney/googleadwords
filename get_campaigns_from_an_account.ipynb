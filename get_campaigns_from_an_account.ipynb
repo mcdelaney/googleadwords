{
 "cells": [
  {
   "cell_type": "code",
   "execution_count": 1,
   "metadata": {
    "collapsed": true
   },
   "outputs": [],
   "source": [
    "#!/usr/bin/env python\n",
    "from googleads import adwords"
   ]
  },
  {
   "cell_type": "code",
   "execution_count": 2,
   "metadata": {
    "collapsed": true
   },
   "outputs": [],
   "source": [
    "import time"
   ]
  },
  {
   "cell_type": "code",
   "execution_count": 3,
   "metadata": {},
   "outputs": [],
   "source": [
    "def loop_campaigns(client, account_id):\n",
    "    client.SetClientCustomerId(account_id)\n",
    "    campaign_service = client.GetService('CampaignService', version='v201609')\n",
    "\n",
    "    enabled_campaigns = []\n",
    "    offset = 0\n",
    "    qry = 'SELECT Id, Name, Status ORDER BY Name LIMIT {lower}, {upper}'\n",
    "\n",
    "    more_pages = True\n",
    "    while more_pages:\n",
    "        page = campaign_service.query(qry.format(lower=offset, upper=PAGE_SIZE))\n",
    "\n",
    "        if 'entries' in page:\n",
    "            for campaign in page['entries']:\n",
    "                if campaign['status']=='ENABLED' and campaign['name'].lower().find(\"dynamic search ads\")==-1:\n",
    "                    enabled_campaigns.append(str(campaign['id']))\n",
    "\n",
    "        offset += PAGE_SIZE\n",
    "        more_pages = offset < int(page['totalNumEntries'])\n",
    "        time.sleep(1)\n",
    "    return enabled_campaigns"
   ]
  },
  {
   "cell_type": "code",
   "execution_count": 4,
   "metadata": {},
   "outputs": [],
   "source": [
    "adwords_client = adwords.AdWordsClient.LoadFromStorage()"
   ]
  },
  {
   "cell_type": "code",
   "execution_count": 5,
   "metadata": {
    "collapsed": true
   },
   "outputs": [],
   "source": [
    "PAGE_SIZE = 200"
   ]
  },
  {
   "cell_type": "code",
   "execution_count": null,
   "metadata": {
    "collapsed": true
   },
   "outputs": [],
   "source": [
    "loop_campaigns(adwords_client, '306-430-9521')"
   ]
  },
  {
   "cell_type": "code",
   "execution_count": null,
   "metadata": {
    "collapsed": true
   },
   "outputs": [],
   "source": []
  }
 ],
 "metadata": {
  "kernelspec": {
   "display_name": "Python 2 (scratch)",
   "language": "python",
   "name": "scratch"
  },
  "language_info": {
   "codemirror_mode": {
    "name": "ipython",
    "version": 2
   },
   "file_extension": ".py",
   "mimetype": "text/x-python",
   "name": "python",
   "nbconvert_exporter": "python",
   "pygments_lexer": "ipython2",
   "version": "2.7.9"
  }
 },
 "nbformat": 4,
 "nbformat_minor": 2
}
